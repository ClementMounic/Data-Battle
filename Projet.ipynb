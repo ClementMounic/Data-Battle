{
  "nbformat": 4,
  "nbformat_minor": 0,
  "metadata": {
    "colab": {
      "provenance": []
    },
    "kernelspec": {
      "name": "python3",
      "display_name": "Python 3"
    },
    "language_info": {
      "name": "python"
    }
  },
  "cells": [
    {
      "cell_type": "markdown",
      "source": [],
      "metadata": {
        "id": "I1nR96KRRDMM"
      }
    },
    {
      "cell_type": "markdown",
      "source": [],
      "metadata": {
        "id": "Qgh7dzv_RGiK"
      }
    },
    {
      "cell_type": "code",
      "source": [
        "import pandas as pd\n",
        "from sklearn.feature_extraction.text import TfidfVectorizer\n",
        "from sklearn.metrics.pairwise import cosine_similarity\n",
        "import numpy as np\n",
        "\n",
        "# Charger le fichier CSV en utilisant des tabulations comme séparateurs et en spécifiant les noms des colonnes\n",
        "df = pd.read_csv(\"cleaned_data.csv\",header=None)\n",
        "\n",
        "# Remplacer les valeurs NaN par une chaîne vide\n",
        "df[5] = df[5].fillna('')\n",
        "\n",
        "\n",
        "# Liste des codes et des textes\n",
        "codes = df[3].tolist()  # Accéder à la quatrième colonne\n",
        "texts = df[5].tolist()  # Accéder à la septième colonne\n"
      ],
      "metadata": {
        "id": "mH5YUdFnRHad"
      },
      "execution_count": null,
      "outputs": []
    },
    {
      "cell_type": "code",
      "source": [
        "# Vectorisation des textes\n",
        "\n",
        "vectorizer = TfidfVectorizer()\n",
        "X = vectorizer.fit_transform(texts)\n"
      ],
      "metadata": {
        "id": "-_nM_qVbSLOR"
      },
      "execution_count": null,
      "outputs": []
    },
    {
      "cell_type": "code",
      "source": [
        "def trouver_code(question):\n",
        "    #Vectorisation de la question\n",
        "    question_vec = vectorizer.transform([question])\n",
        "\n",
        "    #Calcul des similarités cosinus entre la question et les textes de la base de données\n",
        "    similarities = cosine_similarity(question_vec, X)\n",
        "\n",
        "    #Trouver l'indice de la similarité maximale\n",
        "    max_index = np.argmax(similarities)\n",
        "\n",
        "    #Renvoyer le code correspondant\n",
        "    return codes[max_index]\n"
      ],
      "metadata": {
        "id": "ahwd6rOsTrUb"
      },
      "execution_count": null,
      "outputs": []
    },
    {
      "cell_type": "code",
      "source": [
        "# Exemple d'utilisation\n",
        "question = \"Comment faire pour réduire la consommation de mon compresseur d'air comprimé ?\"\n",
        "code_solution = trouver_code(question)\n",
        "print(\"Le code de la solution la plus appropriée est : K{}\".format(code_solution))\n"
      ],
      "metadata": {
        "colab": {
          "base_uri": "https://localhost:8080/"
        },
        "id": "9kKm5PnaTsx0",
        "outputId": "b5bbad94-3de5-45c9-d58d-cd93172082de"
      },
      "execution_count": null,
      "outputs": [
        {
          "output_type": "stream",
          "name": "stdout",
          "text": [
            "Le code de la solution la plus appropriée est : K470\n"
          ]
        }
      ]
    }
  ]
}